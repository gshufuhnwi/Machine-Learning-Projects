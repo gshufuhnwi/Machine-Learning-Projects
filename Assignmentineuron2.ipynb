{
 "cells": [
  {
   "cell_type": "markdown",
   "metadata": {},
   "source": [
    "# Task 1"
   ]
  },
  {
   "cell_type": "markdown",
   "metadata": {},
   "source": [
    "## Question 1"
   ]
  },
  {
   "cell_type": "markdown",
   "metadata": {},
   "source": [
    "### 1.1: Myreduce Function"
   ]
  },
  {
   "cell_type": "code",
   "execution_count": 1,
   "metadata": {},
   "outputs": [
    {
     "name": "stdout",
     "output_type": "stream",
     "text": [
      "Sum a range of Numbers: 124750\n"
     ]
    }
   ],
   "source": [
    "def myreduce(anyfunc, sequence):\n",
    "\n",
    "    result = sequence[0]\n",
    "    for item in sequence[1:]:\n",
    "        result = anyfunc(result, item)\n",
    "\n",
    "    return result\n",
    "\n",
    "## test myreduced\n",
    "  \n",
    "print(\"Sum a range of Numbers:\", myreduce(lambda x, y: x + y, range(1, 500)))"
   ]
  },
  {
   "cell_type": "markdown",
   "metadata": {},
   "source": [
    "### 1.2: MyFilterFunction"
   ]
  },
  {
   "cell_type": "code",
   "execution_count": 2,
   "metadata": {},
   "outputs": [
    {
     "name": "stdout",
     "output_type": "stream",
     "text": [
      "Prime Numbers:  [3, 6, 9, 12, 15, 18, 21, 24, 27, 30, 33, 36, 39, 42, 45, 48]\n"
     ]
    }
   ],
   "source": [
    "def myfilter(anyfunc, sequence):\n",
    "\n",
    "    result1 = []\n",
    "    for item in sequence:\n",
    "        if anyfunc(item):\n",
    "            result1.append(item)\n",
    "    return result1\n",
    "\n",
    "print(\"Prime Numbers: \", list(myfilter(lambda x: x % 3==0, range(1, 50))))"
   ]
  },
  {
   "cell_type": "markdown",
   "metadata": {},
   "source": [
    "## Question 2"
   ]
  },
  {
   "cell_type": "code",
   "execution_count": 3,
   "metadata": {},
   "outputs": [
    {
     "name": "stdout",
     "output_type": "stream",
     "text": [
      "['A', 'C', 'A', 'D', 'G', 'I', 'L', 'D']\n",
      "['x', 'xx', 'xxx', 'xxxx', 'y', 'yy', 'yyy', 'yyyy', 'z', 'zz', 'zzz', 'zzzz']\n",
      "['x', 'y', 'z', 'xx', 'yy', 'zz', 'xxx', 'yyy', 'zzz', 'xxxx', 'yyyy', 'zzzz']\n",
      "[[2], [3], [4], [3], [4], [5], [4], [5], [6]]\n",
      "[[2, 3, 4, 5], [3, 4, 5, 6], [4, 5, 6, 7], [5, 6, 7, 8]]\n",
      "[(1, 1), (2, 1), (3, 1), (1, 2), (2, 2), (3, 2), (1, 3), (2, 3), (3, 3)]\n"
     ]
    }
   ],
   "source": [
    "alpha_list = [i for i in  \"ACADGILD\"]\n",
    "print(alpha_list)\n",
    "\n",
    "list_1 = [item*num for item in ['x','y','z'] for num in range(1,5)]\n",
    "print(list_1)\n",
    "\n",
    "list_2 = [item*num for num in range(1,5) for item in ['x','y','z']]\n",
    "print(list_2)\n",
    "\n",
    "list_3 = [[item+num] for item in [2,3,4] for num in range(0,3)]\n",
    "\n",
    "print(list_3)\n",
    "\n",
    "list_4 = [[item+num for item in [2,3,4,5]]  for num in range(0,4)]\n",
    "\n",
    "print(list_4)\n",
    "\n",
    "list_5 = [(y,x) for x in [1,2,3] for y in [1,2,3]]\n",
    "\n",
    "print(list_5)"
   ]
  },
  {
   "cell_type": "markdown",
   "metadata": {},
   "source": [
    "## Question 3"
   ]
  },
  {
   "cell_type": "code",
   "execution_count": 5,
   "metadata": {},
   "outputs": [
    {
     "name": "stdout",
     "output_type": "stream",
     "text": [
      "Longest word is : Machine Learning and Deep Learning\n"
     ]
    }
   ],
   "source": [
    "def longest_word(list_word):\n",
    "    longest_word = list_word[0]\n",
    "    \n",
    "    for word in list_word:\n",
    "        \n",
    "        if len(longest_word) < len(word):\n",
    "            \n",
    "            longest_word = word\n",
    "    return longest_word\n",
    "\n",
    "### Test Function\n",
    "    \n",
    "list_words = ['PHP', 'Gerard','Python', 'Computer Science', 'Machine Learning and Deep Learning']\n",
    "\n",
    "print(\"Longest word is :\", longest_word(list_words))"
   ]
  },
  {
   "cell_type": "markdown",
   "metadata": {},
   "source": [
    "# Task 2"
   ]
  },
  {
   "cell_type": "markdown",
   "metadata": {},
   "source": [
    "### 1.1: Area of a triangle"
   ]
  },
  {
   "cell_type": "code",
   "execution_count": 8,
   "metadata": {},
   "outputs": [
    {
     "name": "stdout",
     "output_type": "stream",
     "text": [
      "a=3.4\n",
      "b=5\n",
      "c=6\n",
      "area : 8.498846980620373\n"
     ]
    }
   ],
   "source": [
    "class triangle:\n",
    "\n",
    "    def __init__(self, a,b,c):\n",
    "        self.a = a\n",
    "        self.b = b\n",
    "        self.c = c\n",
    "a= float(input(\"a=\"))\n",
    "b= float(input(\"b=\"))\n",
    "c= float(input(\"c=\"))\n",
    "class Triangle(triangle):\n",
    "    def __init__(self,a,b,c):\n",
    "        super().__init__(a,b,c)\n",
    "    \n",
    "    def get_area(self):\n",
    "        \n",
    "         # calculate the semi-perimeter\n",
    "        s = (self.a + self.b + self.c) / 2\n",
    "        return (s*(s-self.a)*(s-self.b)*(s-self.c)) ** 0.5\n",
    "\n",
    "A = Triangle(a,b,c)\n",
    "print(\"area : {}\".format(A.get_area()))"
   ]
  },
  {
   "cell_type": "markdown",
   "metadata": {},
   "source": [
    "### 1.2: Filter Longest word"
   ]
  },
  {
   "cell_type": "code",
   "execution_count": 9,
   "metadata": {},
   "outputs": [
    {
     "name": "stdout",
     "output_type": "stream",
     "text": [
      "['This', 'class', 'much', 'interesting']\n"
     ]
    }
   ],
   "source": [
    "def filter_long_words(n, string):\n",
    "    \n",
    "    word_len = []\n",
    "    word = string.split(\" \")\n",
    "    \n",
    "    for i in word:\n",
    "        \n",
    "        if len(i)> n:\n",
    "            word_len.append(i)\n",
    "    return word_len\n",
    "\n",
    "print(filter_long_words(3, \"This class is so much interesting\"))"
   ]
  },
  {
   "cell_type": "markdown",
   "metadata": {},
   "source": [
    "### 2.1:  Map list of words to integers."
   ]
  },
  {
   "cell_type": "code",
   "execution_count": 10,
   "metadata": {},
   "outputs": [
    {
     "name": "stdout",
     "output_type": "stream",
     "text": [
      "[2, 3, 4]\n"
     ]
    }
   ],
   "source": [
    "def wordlength(word_list):\n",
    "    \n",
    "    return list(map(lambda x: len(x), word_list))\n",
    "\n",
    "word_list = ['ab','cde','erty']\n",
    "\n",
    "print(wordlength(word_list))"
   ]
  },
  {
   "cell_type": "markdown",
   "metadata": {},
   "source": [
    "### 2.2: Vowel Check"
   ]
  },
  {
   "cell_type": "code",
   "execution_count": 14,
   "metadata": {},
   "outputs": [
    {
     "name": "stdout",
     "output_type": "stream",
     "text": [
      "True\n"
     ]
    }
   ],
   "source": [
    "def vowel_check(char):\n",
    "    if(char == 'a' or char == 'e' or char == 'i' or char == 'o' or char == 'u'):\n",
    "        \n",
    "        return True\n",
    "    else:\n",
    "        \n",
    "        return False\n",
    "print(vowel_check('o'))"
   ]
  },
  {
   "cell_type": "code",
   "execution_count": null,
   "metadata": {},
   "outputs": [],
   "source": []
  }
 ],
 "metadata": {
  "kernelspec": {
   "display_name": "Python 3",
   "language": "python",
   "name": "python3"
  },
  "language_info": {
   "codemirror_mode": {
    "name": "ipython",
    "version": 3
   },
   "file_extension": ".py",
   "mimetype": "text/x-python",
   "name": "python",
   "nbconvert_exporter": "python",
   "pygments_lexer": "ipython3",
   "version": "3.7.3"
  }
 },
 "nbformat": 4,
 "nbformat_minor": 2
}

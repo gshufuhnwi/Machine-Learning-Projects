{
 "cells": [
  {
   "cell_type": "code",
   "execution_count": 1,
   "metadata": {},
   "outputs": [
    {
     "data": {
      "text/html": [
       "<div>\n",
       "<style scoped>\n",
       "    .dataframe tbody tr th:only-of-type {\n",
       "        vertical-align: middle;\n",
       "    }\n",
       "\n",
       "    .dataframe tbody tr th {\n",
       "        vertical-align: top;\n",
       "    }\n",
       "\n",
       "    .dataframe thead th {\n",
       "        text-align: right;\n",
       "    }\n",
       "</style>\n",
       "<table border=\"1\" class=\"dataframe\">\n",
       "  <thead>\n",
       "    <tr style=\"text-align: right;\">\n",
       "      <th></th>\n",
       "      <th>RowNumber</th>\n",
       "      <th>CustomerId</th>\n",
       "      <th>Surname</th>\n",
       "      <th>Geography</th>\n",
       "      <th>Gender</th>\n",
       "      <th>Age</th>\n",
       "      <th>Profession</th>\n",
       "      <th>Tenure</th>\n",
       "      <th>Balance (last week)</th>\n",
       "      <th>Balance (today)</th>\n",
       "      <th>...</th>\n",
       "      <th>HasCrCard</th>\n",
       "      <th>Loan amount this month</th>\n",
       "      <th>Loan age</th>\n",
       "      <th>Loan type</th>\n",
       "      <th>Due loan payment (this month)</th>\n",
       "      <th>No of visits to bank this month</th>\n",
       "      <th>Enrolled to Mobile banking today</th>\n",
       "      <th>Deposits this month</th>\n",
       "      <th>EstimatedSalary</th>\n",
       "      <th>Salary account</th>\n",
       "    </tr>\n",
       "  </thead>\n",
       "  <tbody>\n",
       "    <tr>\n",
       "      <th>0</th>\n",
       "      <td>2093</td>\n",
       "      <td>15757408</td>\n",
       "      <td>Lo</td>\n",
       "      <td>South West</td>\n",
       "      <td>Male</td>\n",
       "      <td>38</td>\n",
       "      <td>Skilled</td>\n",
       "      <td>3</td>\n",
       "      <td>275376.202392</td>\n",
       "      <td>250898.09</td>\n",
       "      <td>...</td>\n",
       "      <td>0</td>\n",
       "      <td>14335</td>\n",
       "      <td>1</td>\n",
       "      <td>Business</td>\n",
       "      <td>1148.751531</td>\n",
       "      <td>0</td>\n",
       "      <td>No</td>\n",
       "      <td>0.000000</td>\n",
       "      <td>81054.00</td>\n",
       "      <td>0</td>\n",
       "    </tr>\n",
       "    <tr>\n",
       "      <th>1</th>\n",
       "      <td>3281</td>\n",
       "      <td>15715622</td>\n",
       "      <td>To Rot</td>\n",
       "      <td>North Central</td>\n",
       "      <td>Female</td>\n",
       "      <td>57</td>\n",
       "      <td>Non-Skilled</td>\n",
       "      <td>3</td>\n",
       "      <td>168705.016176</td>\n",
       "      <td>238387.56</td>\n",
       "      <td>...</td>\n",
       "      <td>0</td>\n",
       "      <td>15758</td>\n",
       "      <td>2</td>\n",
       "      <td>Auto</td>\n",
       "      <td>0.000000</td>\n",
       "      <td>0</td>\n",
       "      <td>Yes</td>\n",
       "      <td>0.000000</td>\n",
       "      <td>147964.99</td>\n",
       "      <td>1</td>\n",
       "    </tr>\n",
       "    <tr>\n",
       "      <th>2</th>\n",
       "      <td>8734</td>\n",
       "      <td>15714241</td>\n",
       "      <td>Haddon</td>\n",
       "      <td>South West</td>\n",
       "      <td>Male</td>\n",
       "      <td>42</td>\n",
       "      <td>Skilled</td>\n",
       "      <td>9</td>\n",
       "      <td>115230.012462</td>\n",
       "      <td>222267.63</td>\n",
       "      <td>...</td>\n",
       "      <td>0</td>\n",
       "      <td>0</td>\n",
       "      <td>0</td>\n",
       "      <td>No Loan</td>\n",
       "      <td>0.000000</td>\n",
       "      <td>2</td>\n",
       "      <td>Yes</td>\n",
       "      <td>18135.954277</td>\n",
       "      <td>101108.85</td>\n",
       "      <td>1</td>\n",
       "    </tr>\n",
       "    <tr>\n",
       "      <th>3</th>\n",
       "      <td>3589</td>\n",
       "      <td>15571958</td>\n",
       "      <td>McIntosh</td>\n",
       "      <td>South West</td>\n",
       "      <td>Male</td>\n",
       "      <td>40</td>\n",
       "      <td>Non-Skilled</td>\n",
       "      <td>3</td>\n",
       "      <td>184308.943539</td>\n",
       "      <td>221532.80</td>\n",
       "      <td>...</td>\n",
       "      <td>1</td>\n",
       "      <td>0</td>\n",
       "      <td>0</td>\n",
       "      <td>No Loan</td>\n",
       "      <td>0.000000</td>\n",
       "      <td>2</td>\n",
       "      <td>Yes</td>\n",
       "      <td>1015.609661</td>\n",
       "      <td>171867.08</td>\n",
       "      <td>1</td>\n",
       "    </tr>\n",
       "    <tr>\n",
       "      <th>4</th>\n",
       "      <td>6718</td>\n",
       "      <td>15586674</td>\n",
       "      <td>Shaw</td>\n",
       "      <td>South West</td>\n",
       "      <td>Female</td>\n",
       "      <td>58</td>\n",
       "      <td>Skilled</td>\n",
       "      <td>5</td>\n",
       "      <td>141788.455066</td>\n",
       "      <td>216109.88</td>\n",
       "      <td>...</td>\n",
       "      <td>0</td>\n",
       "      <td>10145</td>\n",
       "      <td>2</td>\n",
       "      <td>Auto</td>\n",
       "      <td>0.000000</td>\n",
       "      <td>2</td>\n",
       "      <td>Yes</td>\n",
       "      <td>16181.368607</td>\n",
       "      <td>74176.71</td>\n",
       "      <td>0</td>\n",
       "    </tr>\n",
       "  </tbody>\n",
       "</table>\n",
       "<p>5 rows × 21 columns</p>\n",
       "</div>"
      ],
      "text/plain": [
       "   RowNumber  CustomerId   Surname      Geography  Gender  Age   Profession  \\\n",
       "0       2093    15757408        Lo     South West    Male   38      Skilled   \n",
       "1       3281    15715622    To Rot  North Central  Female   57  Non-Skilled   \n",
       "2       8734    15714241    Haddon     South West    Male   42      Skilled   \n",
       "3       3589    15571958  McIntosh     South West    Male   40  Non-Skilled   \n",
       "4       6718    15586674      Shaw     South West  Female   58      Skilled   \n",
       "\n",
       "   Tenure  Balance (last week)  Balance (today)  ...  HasCrCard  \\\n",
       "0       3        275376.202392        250898.09  ...          0   \n",
       "1       3        168705.016176        238387.56  ...          0   \n",
       "2       9        115230.012462        222267.63  ...          0   \n",
       "3       3        184308.943539        221532.80  ...          1   \n",
       "4       5        141788.455066        216109.88  ...          0   \n",
       "\n",
       "   Loan amount this month  Loan age  Loan type Due loan payment (this month)  \\\n",
       "0                   14335         1   Business                   1148.751531   \n",
       "1                   15758         2       Auto                      0.000000   \n",
       "2                       0         0    No Loan                      0.000000   \n",
       "3                       0         0    No Loan                      0.000000   \n",
       "4                   10145         2       Auto                      0.000000   \n",
       "\n",
       "   No of visits to bank this month  Enrolled to Mobile banking today  \\\n",
       "0                                0                                No   \n",
       "1                                0                               Yes   \n",
       "2                                2                               Yes   \n",
       "3                                2                               Yes   \n",
       "4                                2                               Yes   \n",
       "\n",
       "  Deposits this month  EstimatedSalary  Salary account  \n",
       "0            0.000000         81054.00               0  \n",
       "1            0.000000        147964.99               1  \n",
       "2        18135.954277        101108.85               1  \n",
       "3         1015.609661        171867.08               1  \n",
       "4        16181.368607         74176.71               0  \n",
       "\n",
       "[5 rows x 21 columns]"
      ]
     },
     "execution_count": 1,
     "metadata": {},
     "output_type": "execute_result"
    }
   ],
   "source": [
    "import pandas as pd\n",
    "bank = pd.read_excel(\"bank_dataset.xlsx\")\n",
    "\n",
    "# check the first few rows\n",
    "bank.head()"
   ]
  },
  {
   "cell_type": "markdown",
   "metadata": {},
   "source": [
    "### Total Number of Customers with account balance greater than zero"
   ]
  },
  {
   "cell_type": "code",
   "execution_count": 50,
   "metadata": {},
   "outputs": [
    {
     "name": "stdout",
     "output_type": "stream",
     "text": [
      "Number of Customers with balance greater than zero: 8663\n"
     ]
    }
   ],
   "source": [
    "# subset the data for customers with account balance greater than zero\n",
    "cust_greater = bank.loc[bank['Balance (today)'] > 0]\n",
    "#cust_greater.tail()\n",
    "\n",
    "# Number of customers with account balance greater than zero\n",
    "n_B = cust_greater.shape[0]\n",
    "print(\"Number of Customers with balance greater than zero: {}\".format(n_B))"
   ]
  },
  {
   "cell_type": "markdown",
   "metadata": {},
   "source": [
    "### Confidence level for Customers with balance greater than zero"
   ]
  },
  {
   "cell_type": "code",
   "execution_count": 41,
   "metadata": {},
   "outputs": [
    {
     "name": "stdout",
     "output_type": "stream",
     "text": [
      "Confidence level for Customers with balance greater than zero: 0.8663\n"
     ]
    }
   ],
   "source": [
    "# Ratio of the number of customers with balance greater than zero to the total number of customers\n",
    "C = (n_B / bank.shape[0]) \n",
    "print(\"Confidence level for Customers with balance greater than zero: {}\".format(C))"
   ]
  },
  {
   "cell_type": "markdown",
   "metadata": {},
   "source": [
    "### Likelihood of Customers with balance greater than zero"
   ]
  },
  {
   "cell_type": "code",
   "execution_count": 43,
   "metadata": {},
   "outputs": [],
   "source": [
    "# subset the data with account balance greater than 0 for both male and female\n",
    "male_B = cust_greater.loc[cust_greater['Gender'] == 'Male']\n",
    "female_B = cust_greater.loc[cust_greater['Gender'] == 'Female']\n",
    "\n",
    "# Ratio of the number of male customers to the number of customers with balance greater than zero\n",
    "L_male = (male_B.shape[0] / n_B) \n",
    "\n",
    "#  Ratio of the number of female customers to the number of customers with balance greater than zero\n",
    "\n",
    "L_female = (female_B.shape[0] / n_B) \n"
   ]
  },
  {
   "cell_type": "code",
   "execution_count": 44,
   "metadata": {},
   "outputs": [
    {
     "name": "stdout",
     "output_type": "stream",
     "text": [
      "Likelihood of Male Customers with balance greater than zero: 0.5480\n",
      "Likelihood of Male Customers with balance greater than zero: 0.4520\n"
     ]
    }
   ],
   "source": [
    "print(\"Likelihood of Male Customers with balance greater than zero: {:.4f}\".format(L_male))\n",
    "print(\"Likelihood of Male Customers with balance greater than zero: {:.4f}\".format(L_female))"
   ]
  },
  {
   "cell_type": "markdown",
   "metadata": {},
   "source": [
    "### Average current balance of all male and female customers with balance greater than zero"
   ]
  },
  {
   "cell_type": "code",
   "execution_count": 46,
   "metadata": {},
   "outputs": [],
   "source": [
    "# average current balance of all male and female customers in the bank\n",
    "V_male_today = male_B['Balance (today)'].mean()\n",
    "V_female_today = female_B['Balance (today)'].mean()"
   ]
  },
  {
   "cell_type": "code",
   "execution_count": 47,
   "metadata": {},
   "outputs": [
    {
     "name": "stdout",
     "output_type": "stream",
     "text": [
      "Average current balance of all male customers: 88800.6490\n",
      "Average current balance of all female customers: 87852.6141\n"
     ]
    }
   ],
   "source": [
    "print(\"Average current balance of all male customers: {:.4f}\".format(V_male_today)) \n",
    "print(\"Average current balance of all female customers: {:.4f}\".format(V_female_today)) "
   ]
  },
  {
   "cell_type": "markdown",
   "metadata": {},
   "source": [
    "### Average balance of all customers with balance greater than zero"
   ]
  },
  {
   "cell_type": "code",
   "execution_count": 8,
   "metadata": {},
   "outputs": [
    {
     "name": "stdout",
     "output_type": "stream",
     "text": [
      "Average balance of all customers with balance greater than zero: 88372.1018\n"
     ]
    }
   ],
   "source": [
    "V_E_today = cust_greater['Balance (today)'].mean()\n",
    "print(\"Average balance of all customers with balance greater than zero: {:.4f}\".format(V_E_today))"
   ]
  },
  {
   "cell_type": "markdown",
   "metadata": {},
   "source": [
    "### The average balances of customers with balance greater than zero from a previous time period, e.g. last week \n"
   ]
  },
  {
   "cell_type": "code",
   "execution_count": 48,
   "metadata": {},
   "outputs": [],
   "source": [
    "# subset the original data for customers with balance greater than zero for last week\n",
    "cust_LWeek = bank[bank['Balance (last week)'] > 0]\n",
    "\n",
    "# subset the obtained data for both gender\n",
    "male_LWeek = cust_LWeek[cust_LWeek['Gender'] == 'Male']\n",
    "female_LWeek = cust_LWeek[cust_LWeek['Gender'] == 'Female']\n",
    "\n",
    "# Average balances of customers from previous time period\n",
    "V_male_lastWeek = male_LWeek['Balance (last week)'].mean()\n",
    "V_female_lastWeek = female_LWeek['Balance (last week)'].mean()\n",
    "V_E_lastWeek = cust_LWeek['Balance (last week)'].mean()\n"
   ]
  },
  {
   "cell_type": "code",
   "execution_count": 49,
   "metadata": {},
   "outputs": [
    {
     "name": "stdout",
     "output_type": "stream",
     "text": [
      "Average balance of male customers with balance greater than zero last week: 89390.2430\n",
      "Average balance of female customers with balance greater than zero last week: 86350.5941\n",
      "Average balance of all customers with balance greater than zero last week: 88006.6883\n"
     ]
    }
   ],
   "source": [
    "print(\"Average balance of male customers with balance greater than zero last week: {:.4f}\".format(V_male_lastWeek)) \n",
    "print(\"Average balance of female customers with balance greater than zero last week: {:.4f}\".format(V_female_lastWeek)) \n",
    "print(\"Average balance of all customers with balance greater than zero last week: {:.4f}\".format(V_E_lastWeek))"
   ]
  },
  {
   "cell_type": "markdown",
   "metadata": {},
   "source": [
    "### The impact of each customer segment on the overall customers affected by the event\n"
   ]
  },
  {
   "cell_type": "code",
   "execution_count": 11,
   "metadata": {},
   "outputs": [],
   "source": [
    "I_male = ((V_male_today - V_E_today) / V_E_today) * 100\n",
    "\n",
    "I_female = ((V_female_today - V_E_today) / V_E_today) * 100"
   ]
  },
  {
   "cell_type": "code",
   "execution_count": 12,
   "metadata": {},
   "outputs": [
    {
     "name": "stdout",
     "output_type": "stream",
     "text": [
      "Impact of male customers on all customers with balance greater than zero: 0.4849\n",
      "Impact of female customers on all customers with balance greater than zero: -0.5878\n"
     ]
    }
   ],
   "source": [
    "print(\"Impact of male customers on all customers with balance greater than zero: {:.4f}\".format(I_male))\n",
    "print(\"Impact of female customers on all customers with balance greater than zero: {:.4f}\".format(I_female))"
   ]
  },
  {
   "cell_type": "markdown",
   "metadata": {},
   "source": [
    "### The sustainability (S) of each customer segment"
   ]
  },
  {
   "cell_type": "code",
   "execution_count": 13,
   "metadata": {},
   "outputs": [],
   "source": [
    "S_male = ((V_male_today - V_male_lastWeek) / V_male_lastWeek) * 100\n",
    "S_female = ((V_female_today - V_female_lastWeek) / V_female_lastWeek) * 100"
   ]
  },
  {
   "cell_type": "code",
   "execution_count": 14,
   "metadata": {},
   "outputs": [
    {
     "name": "stdout",
     "output_type": "stream",
     "text": [
      "Sustainability of male customers: -0.6596\n",
      "Sustainability of female customers: 1.7394\n"
     ]
    }
   ],
   "source": [
    "print(\"Sustainability of male customers: {:.4f}\".format(S_male)) \n",
    "print(\"Sustainability of female customers: {:.4f}\".format(S_female)) "
   ]
  },
  {
   "cell_type": "markdown",
   "metadata": {},
   "source": [
    "### Determine the Pulse of each segment"
   ]
  },
  {
   "cell_type": "code",
   "execution_count": 15,
   "metadata": {},
   "outputs": [],
   "source": [
    "P_male = (L_male * C) * (I_male * S_male)\n",
    "P_female = (L_female * C) * (I_female * S_female)"
   ]
  },
  {
   "cell_type": "code",
   "execution_count": 16,
   "metadata": {},
   "outputs": [
    {
     "name": "stdout",
     "output_type": "stream",
     "text": [
      "Pulse of male customers: -0.1518\n",
      "Pulse of female customers: -0.4004\n"
     ]
    }
   ],
   "source": [
    "print(\"Pulse of male customers: {:.4f}\".format(P_male)) \n",
    "print(\"Pulse of female customers: {:.4f}\".format(P_female))"
   ]
  },
  {
   "cell_type": "markdown",
   "metadata": {},
   "source": [
    "### Determine the overall Pulse of the event\n"
   ]
  },
  {
   "cell_type": "code",
   "execution_count": 17,
   "metadata": {},
   "outputs": [
    {
     "name": "stdout",
     "output_type": "stream",
     "text": [
      "Overall Pulse of Gender: -0.2642\n"
     ]
    }
   ],
   "source": [
    "P_Gender = (L_male * P_male) + (L_female * P_female)\n",
    "\n",
    "print(\"Overall Pulse of Gender: {:.4f}\".format(P_Gender))"
   ]
  }
 ],
 "metadata": {
  "kernelspec": {
   "display_name": "Python 3",
   "language": "python",
   "name": "python3"
  },
  "language_info": {
   "codemirror_mode": {
    "name": "ipython",
    "version": 3
   },
   "file_extension": ".py",
   "mimetype": "text/x-python",
   "name": "python",
   "nbconvert_exporter": "python",
   "pygments_lexer": "ipython3",
   "version": "3.8.3"
  }
 },
 "nbformat": 4,
 "nbformat_minor": 4
}
